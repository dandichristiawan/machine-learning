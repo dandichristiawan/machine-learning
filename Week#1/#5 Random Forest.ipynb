{
  "nbformat": 4,
  "nbformat_minor": 0,
  "metadata": {
    "colab": {
      "name": "#5 Random Forest.ipynb",
      "provenance": [],
      "authorship_tag": "ABX9TyN2cjVQOM1paD9b4eFa4uIw",
      "include_colab_link": true
    },
    "kernelspec": {
      "name": "python3",
      "display_name": "Python 3"
    },
    "language_info": {
      "name": "python"
    }
  },
  "cells": [
    {
      "cell_type": "markdown",
      "metadata": {
        "id": "view-in-github",
        "colab_type": "text"
      },
      "source": [
        "<a href=\"https://colab.research.google.com/github/dandichristiawan/machine-learning/blob/main/%235%20Random%20Forest.ipynb\" target=\"_parent\"><img src=\"https://colab.research.google.com/assets/colab-badge.svg\" alt=\"Open In Colab\"/></a>"
      ]
    },
    {
      "cell_type": "code",
      "metadata": {
        "id": "bsKEff3IJ1pJ",
        "colab": {
          "base_uri": "https://localhost:8080/"
        },
        "outputId": "de5b12b0-6612-4efd-998d-3de5503891cd"
      },
      "source": [
        "from google.colab import drive\n",
        "drive.mount('/content/drive')"
      ],
      "execution_count": 1,
      "outputs": [
        {
          "output_type": "stream",
          "name": "stdout",
          "text": [
            "Mounted at /content/drive\n"
          ]
        }
      ]
    },
    {
      "cell_type": "code",
      "metadata": {
        "id": "Mpk0KqnhKjIf"
      },
      "source": [
        "import pandas as pd\n",
        "from sklearn.metrics import mean_absolute_error\n",
        "from sklearn.model_selection import train_test_split\n",
        "from sklearn.tree import DecisionTreeRegressor\n",
        "iowa_file_path ='/content/drive/MyDrive/data1/train.csv'"
      ],
      "execution_count": 2,
      "outputs": []
    },
    {
      "cell_type": "markdown",
      "metadata": {
        "id": "nPN3i6EuKu2I"
      },
      "source": [
        "## Recap"
      ]
    },
    {
      "cell_type": "code",
      "metadata": {
        "colab": {
          "base_uri": "https://localhost:8080/"
        },
        "id": "Nk5eJVavKcg8",
        "outputId": "ec9b1377-c6ee-4343-9623-f4b2da96976f"
      },
      "source": [
        "home_data = pd.read_csv(iowa_file_path)\n",
        "y = home_data.SalePrice\n",
        "features = ['LotArea', 'YearBuilt', '1stFlrSF', '2ndFlrSF', 'FullBath', 'BedroomAbvGr', 'TotRmsAbvGrd']\n",
        "X = home_data[features]\n",
        "train_X, val_X, train_y, val_y = train_test_split(X, y, random_state=1)\n",
        "iowa_model = DecisionTreeRegressor(random_state=1)\n",
        "iowa_model.fit(train_X, train_y)\n",
        "val_predictions = iowa_model.predict(val_X)\n",
        "val_mae = mean_absolute_error(val_predictions, val_y)\n",
        "print(\"Validation MAE when not specifying max_leaf_nodes: {:,.0f}\".format(val_mae))\n",
        "iowa_model = DecisionTreeRegressor(max_leaf_nodes=100, random_state=1)\n",
        "iowa_model.fit(train_X, train_y)\n",
        "val_predictions = iowa_model.predict(val_X)\n",
        "val_mae = mean_absolute_error(val_predictions, val_y)\n",
        "print(\"Validation MAE for best value of max_leaf_nodes: {:,.0f}\".format(val_mae))\n"
      ],
      "execution_count": 3,
      "outputs": [
        {
          "output_type": "stream",
          "name": "stdout",
          "text": [
            "Validation MAE when not specifying max_leaf_nodes: 29,653\n",
            "Validation MAE for best value of max_leaf_nodes: 27,283\n"
          ]
        }
      ]
    },
    {
      "cell_type": "markdown",
      "metadata": {
        "id": "lU7h03vWKyqk"
      },
      "source": [
        "## Use a Random Forest"
      ]
    },
    {
      "cell_type": "code",
      "metadata": {
        "colab": {
          "base_uri": "https://localhost:8080/"
        },
        "id": "Gm6luDVQK9QQ",
        "outputId": "a86f2c2f-471a-41a9-9d2a-09db10201e32"
      },
      "source": [
        "from sklearn.ensemble import RandomForestRegressor\n",
        "rf_model = RandomForestRegressor(random_state=1)\n",
        "rf_model.fit(train_X, train_y)\n",
        "rf_val_predictions = rf_model.predict(val_X)\n",
        "rf_val_mae = mean_absolute_error(rf_val_predictions, val_y)\n",
        "print(\"Validation MAE for Random Forest Model: {}\".format(rf_val_mae))"
      ],
      "execution_count": 4,
      "outputs": [
        {
          "output_type": "stream",
          "name": "stdout",
          "text": [
            "Validation MAE for Random Forest Model: 21857.15912981083\n"
          ]
        }
      ]
    }
  ]
}
