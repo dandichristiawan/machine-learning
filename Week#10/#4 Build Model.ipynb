{
  "nbformat": 4,
  "nbformat_minor": 0,
  "metadata": {
    "colab": {
      "name": "Untitled11.ipynb",
      "provenance": [],
      "authorship_tag": "ABX9TyPweLIvDS6A+QMb4MtpsAGM",
      "include_colab_link": true
    },
    "kernelspec": {
      "name": "python3",
      "display_name": "Python 3"
    },
    "language_info": {
      "name": "python"
    }
  },
  "cells": [
    {
      "cell_type": "markdown",
      "metadata": {
        "id": "view-in-github",
        "colab_type": "text"
      },
      "source": [
        "<a href=\"https://colab.research.google.com/github/dandichristiawan/machine-learning/blob/main/Week%2310/%234%20Build%20Model.ipynb\" target=\"_parent\"><img src=\"https://colab.research.google.com/assets/colab-badge.svg\" alt=\"Open In Colab\"/></a>"
      ]
    },
    {
      "cell_type": "markdown",
      "source": [
        "## BUILD THE NEURAL NETWORK\n"
      ],
      "metadata": {
        "id": "b9eeRXxXit1D"
      }
    },
    {
      "cell_type": "code",
      "source": [
        "import os\n",
        "import torch\n",
        "from torch import nn\n",
        "from torch.utils.data import DataLoader\n",
        "from torchvision import datasets, transforms"
      ],
      "metadata": {
        "id": "ehHZY8ghitLy"
      },
      "execution_count": 1,
      "outputs": []
    },
    {
      "cell_type": "markdown",
      "source": [
        "## Device for Training"
      ],
      "metadata": {
        "id": "Pnj6KebWixgT"
      }
    },
    {
      "cell_type": "code",
      "source": [
        "device = 'cuda' if torch.cuda.is_available() else 'cpu'\n",
        "print(f'Using {device} device')"
      ],
      "metadata": {
        "colab": {
          "base_uri": "https://localhost:8080/"
        },
        "id": "v4KFXKwMizHe",
        "outputId": "db964e28-b48a-485e-d7cd-0fdc4782afb1"
      },
      "execution_count": 2,
      "outputs": [
        {
          "output_type": "stream",
          "name": "stdout",
          "text": [
            "Using cpu device\n"
          ]
        }
      ]
    },
    {
      "cell_type": "markdown",
      "source": [
        "## Define the Class"
      ],
      "metadata": {
        "id": "CJDxTPzRi0Bp"
      }
    },
    {
      "cell_type": "code",
      "source": [
        "class NeuralNetwork(nn.Module):\n",
        "    def __init__(self):\n",
        "        super(NeuralNetwork, self).__init__()\n",
        "        self.flatten = nn.Flatten()\n",
        "        self.linear_relu_stack = nn.Sequential(\n",
        "            nn.Linear(28*28, 512),\n",
        "            nn.ReLU(),\n",
        "            nn.Linear(512, 512),\n",
        "            nn.ReLU(),\n",
        "            nn.Linear(512, 10),\n",
        "        )\n",
        "\n",
        "    def forward(self, x):\n",
        "        x = self.flatten(x)\n",
        "        logits = self.linear_relu_stack(x)\n",
        "        return logits"
      ],
      "metadata": {
        "id": "5FGJek3Bi1Vv"
      },
      "execution_count": 3,
      "outputs": []
    },
    {
      "cell_type": "code",
      "source": [
        "model = NeuralNetwork().to(device)\n",
        "print(model)"
      ],
      "metadata": {
        "colab": {
          "base_uri": "https://localhost:8080/"
        },
        "id": "qKu94ScNi31M",
        "outputId": "b2abafd9-fbdc-4f47-e746-f4c7246b4892"
      },
      "execution_count": 4,
      "outputs": [
        {
          "output_type": "stream",
          "name": "stdout",
          "text": [
            "NeuralNetwork(\n",
            "  (flatten): Flatten(start_dim=1, end_dim=-1)\n",
            "  (linear_relu_stack): Sequential(\n",
            "    (0): Linear(in_features=784, out_features=512, bias=True)\n",
            "    (1): ReLU()\n",
            "    (2): Linear(in_features=512, out_features=512, bias=True)\n",
            "    (3): ReLU()\n",
            "    (4): Linear(in_features=512, out_features=10, bias=True)\n",
            "  )\n",
            ")\n"
          ]
        }
      ]
    },
    {
      "cell_type": "code",
      "source": [
        "X = torch.rand(1, 28, 28, device=device)\n",
        "logits = model(X)\n",
        "pred_probab = nn.Softmax(dim=1)(logits)\n",
        "y_pred = pred_probab.argmax(1)\n",
        "print(f\"Predicted class: {y_pred}\")"
      ],
      "metadata": {
        "colab": {
          "base_uri": "https://localhost:8080/"
        },
        "id": "o4RnK847i5pY",
        "outputId": "eae7b69d-47f7-4fab-f06b-d96d5eb037a2"
      },
      "execution_count": 5,
      "outputs": [
        {
          "output_type": "stream",
          "name": "stdout",
          "text": [
            "Predicted class: tensor([7])\n"
          ]
        }
      ]
    },
    {
      "cell_type": "markdown",
      "source": [
        "## Model Layers\n"
      ],
      "metadata": {
        "id": "FPFDoo0vi6g0"
      }
    },
    {
      "cell_type": "code",
      "source": [
        "input_image = torch.rand(3,28,28)\n",
        "print(input_image.size())"
      ],
      "metadata": {
        "colab": {
          "base_uri": "https://localhost:8080/"
        },
        "id": "JGDxs6hzi8Oe",
        "outputId": "d8084339-51a5-4148-9b7c-f3a6c5af4b59"
      },
      "execution_count": 6,
      "outputs": [
        {
          "output_type": "stream",
          "name": "stdout",
          "text": [
            "torch.Size([3, 28, 28])\n"
          ]
        }
      ]
    },
    {
      "cell_type": "markdown",
      "source": [
        "**nn.Flatten**"
      ],
      "metadata": {
        "id": "OXLLtnSri9c3"
      }
    },
    {
      "cell_type": "code",
      "source": [
        "flatten = nn.Flatten()\n",
        "flat_image = flatten(input_image)\n",
        "print(flat_image.size())"
      ],
      "metadata": {
        "colab": {
          "base_uri": "https://localhost:8080/"
        },
        "id": "U5LhJl0Ci_9r",
        "outputId": "23bad028-97d7-498e-e6af-3afd2c8564ea"
      },
      "execution_count": 7,
      "outputs": [
        {
          "output_type": "stream",
          "name": "stdout",
          "text": [
            "torch.Size([3, 784])\n"
          ]
        }
      ]
    },
    {
      "cell_type": "markdown",
      "source": [
        "**nn.Linear**"
      ],
      "metadata": {
        "id": "lp94pfAWjBnc"
      }
    },
    {
      "cell_type": "code",
      "source": [
        "layer1 = nn.Linear(in_features=28*28, out_features=20)\n",
        "hidden1 = layer1(flat_image)\n",
        "print(hidden1.size())"
      ],
      "metadata": {
        "colab": {
          "base_uri": "https://localhost:8080/"
        },
        "id": "ZsNPMnB0jC_6",
        "outputId": "94ec495b-a5c4-43d0-d32f-66ee76f5cf96"
      },
      "execution_count": 8,
      "outputs": [
        {
          "output_type": "stream",
          "name": "stdout",
          "text": [
            "torch.Size([3, 20])\n"
          ]
        }
      ]
    },
    {
      "cell_type": "markdown",
      "source": [
        "**nnReLU**"
      ],
      "metadata": {
        "id": "bw3CfAF8jD3W"
      }
    },
    {
      "cell_type": "code",
      "source": [
        "print(f\"Before ReLU: {hidden1}\\n\\n\")\n",
        "hidden1 = nn.ReLU()(hidden1)\n",
        "print(f\"After ReLU: {hidden1}\")"
      ],
      "metadata": {
        "colab": {
          "base_uri": "https://localhost:8080/"
        },
        "id": "KDlRI2N4jF4m",
        "outputId": "b27af26c-bff3-4c1f-dcf4-3af2513064ab"
      },
      "execution_count": 9,
      "outputs": [
        {
          "output_type": "stream",
          "name": "stdout",
          "text": [
            "Before ReLU: tensor([[ 0.0060, -0.0427, -0.7948, -0.0137,  0.5418,  0.2059, -0.4010,  0.5122,\n",
            "         -0.3099,  0.4245,  0.4443,  0.5108,  0.1285,  0.5279, -0.8127,  0.0809,\n",
            "         -0.4047,  0.1918,  0.3910,  0.0302],\n",
            "        [-0.1710, -0.3765, -0.9125,  0.3416,  0.7120, -0.1747, -0.1578,  0.5388,\n",
            "         -0.4638,  0.5142,  0.1261,  0.2829,  0.3348,  0.5694, -0.7327,  0.4218,\n",
            "         -0.2631, -0.1462,  0.4917, -0.3891],\n",
            "        [-0.1372,  0.0603, -0.7196, -0.0176,  0.7332,  0.2025, -0.2651,  0.7356,\n",
            "         -0.4290,  0.5309,  0.3152,  0.1287,  0.2120,  0.3512, -0.8393,  0.0952,\n",
            "         -0.2931,  0.1812, -0.0260, -0.0958]], grad_fn=<AddmmBackward0>)\n",
            "\n",
            "\n",
            "After ReLU: tensor([[0.0060, 0.0000, 0.0000, 0.0000, 0.5418, 0.2059, 0.0000, 0.5122, 0.0000,\n",
            "         0.4245, 0.4443, 0.5108, 0.1285, 0.5279, 0.0000, 0.0809, 0.0000, 0.1918,\n",
            "         0.3910, 0.0302],\n",
            "        [0.0000, 0.0000, 0.0000, 0.3416, 0.7120, 0.0000, 0.0000, 0.5388, 0.0000,\n",
            "         0.5142, 0.1261, 0.2829, 0.3348, 0.5694, 0.0000, 0.4218, 0.0000, 0.0000,\n",
            "         0.4917, 0.0000],\n",
            "        [0.0000, 0.0603, 0.0000, 0.0000, 0.7332, 0.2025, 0.0000, 0.7356, 0.0000,\n",
            "         0.5309, 0.3152, 0.1287, 0.2120, 0.3512, 0.0000, 0.0952, 0.0000, 0.1812,\n",
            "         0.0000, 0.0000]], grad_fn=<ReluBackward0>)\n"
          ]
        }
      ]
    },
    {
      "cell_type": "markdown",
      "source": [
        "**nn.Sequential**"
      ],
      "metadata": {
        "id": "ENqRkIVjjHoE"
      }
    },
    {
      "cell_type": "code",
      "source": [
        "seq_modules = nn.Sequential(\n",
        "    flatten,\n",
        "    layer1,\n",
        "    nn.ReLU(),\n",
        "    nn.Linear(20, 10)\n",
        ")\n",
        "input_image = torch.rand(3,28,28)\n",
        "logits = seq_modules(input_image)"
      ],
      "metadata": {
        "id": "kbUy2C0qjI7c"
      },
      "execution_count": 10,
      "outputs": []
    },
    {
      "cell_type": "markdown",
      "source": [
        "**nn.Softmax**"
      ],
      "metadata": {
        "id": "0p1A24xJjJXO"
      }
    },
    {
      "cell_type": "code",
      "source": [
        "softmax = nn.Softmax(dim=1)\n",
        "pred_probab = softmax(logits)"
      ],
      "metadata": {
        "id": "NnT9xOMXjLQ9"
      },
      "execution_count": 11,
      "outputs": []
    },
    {
      "cell_type": "markdown",
      "source": [
        "## Model Parameters\n"
      ],
      "metadata": {
        "id": "HLxCpdBZjMdp"
      }
    },
    {
      "cell_type": "code",
      "source": [
        "print(\"Model structure: \", model, \"\\n\\n\")\n",
        "\n",
        "for name, param in model.named_parameters():\n",
        "    print(f\"Layer: {name} | Size: {param.size()} | Values : {param[:2]} \\n\")"
      ],
      "metadata": {
        "colab": {
          "base_uri": "https://localhost:8080/"
        },
        "id": "-nqfpgdpjgQH",
        "outputId": "cfbad230-56ec-48bd-84af-6178f11f91bc"
      },
      "execution_count": 12,
      "outputs": [
        {
          "output_type": "stream",
          "name": "stdout",
          "text": [
            "Model structure:  NeuralNetwork(\n",
            "  (flatten): Flatten(start_dim=1, end_dim=-1)\n",
            "  (linear_relu_stack): Sequential(\n",
            "    (0): Linear(in_features=784, out_features=512, bias=True)\n",
            "    (1): ReLU()\n",
            "    (2): Linear(in_features=512, out_features=512, bias=True)\n",
            "    (3): ReLU()\n",
            "    (4): Linear(in_features=512, out_features=10, bias=True)\n",
            "  )\n",
            ") \n",
            "\n",
            "\n",
            "Layer: linear_relu_stack.0.weight | Size: torch.Size([512, 784]) | Values : tensor([[ 0.0235, -0.0133,  0.0103,  ..., -0.0277, -0.0077, -0.0141],\n",
            "        [-0.0317,  0.0194, -0.0188,  ...,  0.0198, -0.0255, -0.0243]],\n",
            "       grad_fn=<SliceBackward0>) \n",
            "\n",
            "Layer: linear_relu_stack.0.bias | Size: torch.Size([512]) | Values : tensor([-0.0258, -0.0252], grad_fn=<SliceBackward0>) \n",
            "\n",
            "Layer: linear_relu_stack.2.weight | Size: torch.Size([512, 512]) | Values : tensor([[-0.0051,  0.0368,  0.0029,  ...,  0.0282, -0.0324, -0.0143],\n",
            "        [ 0.0248, -0.0054,  0.0068,  ...,  0.0048,  0.0299,  0.0277]],\n",
            "       grad_fn=<SliceBackward0>) \n",
            "\n",
            "Layer: linear_relu_stack.2.bias | Size: torch.Size([512]) | Values : tensor([ 0.0212, -0.0158], grad_fn=<SliceBackward0>) \n",
            "\n",
            "Layer: linear_relu_stack.4.weight | Size: torch.Size([10, 512]) | Values : tensor([[-0.0430,  0.0154,  0.0142,  ..., -0.0427,  0.0307, -0.0023],\n",
            "        [-0.0438,  0.0272,  0.0405,  ...,  0.0154, -0.0203,  0.0273]],\n",
            "       grad_fn=<SliceBackward0>) \n",
            "\n",
            "Layer: linear_relu_stack.4.bias | Size: torch.Size([10]) | Values : tensor([0.0381, 0.0420], grad_fn=<SliceBackward0>) \n",
            "\n"
          ]
        }
      ]
    }
  ]
}