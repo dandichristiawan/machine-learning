{
  "nbformat": 4,
  "nbformat_minor": 0,
  "metadata": {
    "colab": {
      "name": "Untitled8.ipynb",
      "provenance": [],
      "authorship_tag": "ABX9TyMGl3FNVMo11paYrlDJu32m",
      "include_colab_link": true
    },
    "kernelspec": {
      "name": "python3",
      "display_name": "Python 3"
    },
    "language_info": {
      "name": "python"
    }
  },
  "cells": [
    {
      "cell_type": "markdown",
      "metadata": {
        "id": "view-in-github",
        "colab_type": "text"
      },
      "source": [
        "<a href=\"https://colab.research.google.com/github/dandichristiawan/machine-learning/blob/main/Distributed%20XGBoost%20with%20Ray.ipynb\" target=\"_parent\"><img src=\"https://colab.research.google.com/assets/colab-badge.svg\" alt=\"Open In Colab\"/></a>"
      ]
    },
    {
      "cell_type": "markdown",
      "metadata": {
        "id": "-mXHXnbM3Poy"
      },
      "source": [
        "## **Distributed XGBoost with Ray**"
      ]
    },
    {
      "cell_type": "markdown",
      "metadata": {
        "id": "_4OpmZud3UN-"
      },
      "source": [
        "Installing and starting Ray"
      ]
    },
    {
      "cell_type": "code",
      "metadata": {
        "id": "RK7J8KvQwctI"
      },
      "source": [
        "pip install ray"
      ],
      "execution_count": null,
      "outputs": []
    },
    {
      "cell_type": "markdown",
      "metadata": {
        "id": "3QHvtqe13Ye8"
      },
      "source": [
        "Installing XGBoost-Ray"
      ]
    },
    {
      "cell_type": "code",
      "metadata": {
        "id": "B0B3ITb4wrnp"
      },
      "source": [
        "pip install xgboost_ray"
      ],
      "execution_count": null,
      "outputs": []
    },
    {
      "cell_type": "markdown",
      "metadata": {
        "id": "aXtMDj8Z3eqw"
      },
      "source": [
        "Installing SKLearn"
      ]
    },
    {
      "cell_type": "code",
      "metadata": {
        "id": "6cSwlrfjwtB5"
      },
      "source": [
        "pip install sklearn"
      ],
      "execution_count": null,
      "outputs": []
    },
    {
      "cell_type": "markdown",
      "metadata": {
        "id": "IRhdbCBV3h5b"
      },
      "source": [
        "## Simple training example"
      ]
    },
    {
      "cell_type": "code",
      "metadata": {
        "colab": {
          "base_uri": "https://localhost:8080/"
        },
        "id": "0iR1RDl7w9lx",
        "outputId": "c53192f5-e3f7-4506-fd6b-f90273c9a90c"
      },
      "source": [
        "from xgboost_ray import RayDMatrix, RayParams, train\n",
        "from sklearn.datasets import load_breast_cancer\n",
        "\n",
        "train_x, train_y = load_breast_cancer(return_X_y=True)\n",
        "train_set = RayDMatrix(train_x, train_y)\n",
        "\n",
        "evals_result = {}\n",
        "bst = train(\n",
        "    {\n",
        "        \"objective\": \"binary:logistic\",\n",
        "        \"eval_metric\": [\"logloss\", \"error\"],\n",
        "    },\n",
        "    train_set,\n",
        "    evals_result=evals_result,\n",
        "    evals=[(train_set, \"train\")],\n",
        "    verbose_eval=False,\n",
        "    ray_params=RayParams(num_actors=2, cpus_per_actor=1))\n",
        "\n",
        "bst.save_model(\"model.xgb\")\n",
        "print(\"Final training error: {:.4f}\".format(\n",
        "    evals_result[\"train\"][\"error\"][-1]))"
      ],
      "execution_count": 4,
      "outputs": [
        {
          "output_type": "stream",
          "name": "stderr",
          "text": [
            "/usr/local/lib/python3.7/dist-packages/xgboost_ray/main.py:166: UserWarning: You are using `xgboost_ray` with a legacy XGBoost version (version 0.90). While we try to support older XGBoost versions, please note that this library is only fully tested and supported for XGBoost >= 1.4. Please consider upgrading your XGBoost version (`pip install -U xgboost`).\n",
            "  warnings.warn(LEGACY_WARNING)\n",
            "2021-11-10 12:37:51,031\tINFO main.py:971 -- [RayXGBoost] Created 2 new actors (2 total actors). Waiting until actors are ready for training.\n"
          ]
        },
        {
          "output_type": "stream",
          "name": "stdout",
          "text": [
            "\u001b[2m\u001b[36m(_EventActor pid=1123)\u001b[0m \n"
          ]
        },
        {
          "output_type": "stream",
          "name": "stderr",
          "text": [
            "2021-11-10 12:37:53,266\tINFO main.py:1016 -- [RayXGBoost] Starting XGBoost training.\n",
            "\u001b[2m\u001b[36m(pid=1185)\u001b[0m [12:37:53] WARNING: /workspace/src/learner.cc:622: Tree method is automatically selected to be 'approx' for distributed training.\n",
            "\u001b[2m\u001b[36m(pid=1185)\u001b[0m [12:37:53] Tree method is automatically selected to be 'approx' for distributed training.\n",
            "\u001b[2m\u001b[36m(pid=1209)\u001b[0m [12:37:53] WARNING: /workspace/src/learner.cc:622: Tree method is automatically selected to be 'approx' for distributed training.\n",
            "\u001b[2m\u001b[36m(pid=1209)\u001b[0m [12:37:53] Tree method is automatically selected to be 'approx' for distributed training.\n",
            "2021-11-10 12:37:54,860\tINFO main.py:1498 -- [RayXGBoost] Finished XGBoost training on training data with total N=569 in 4.76 seconds (1.58 pure XGBoost training time).\n"
          ]
        },
        {
          "output_type": "stream",
          "name": "stdout",
          "text": [
            "Final training error: 0.0053\n"
          ]
        }
      ]
    },
    {
      "cell_type": "markdown",
      "metadata": {
        "id": "7QtIF0Nv3lto"
      },
      "source": [
        "## Simple prediction example"
      ]
    },
    {
      "cell_type": "code",
      "metadata": {
        "colab": {
          "base_uri": "https://localhost:8080/"
        },
        "id": "5R9RovNvxFlb",
        "outputId": "ee12ee9f-8bb1-4ba7-920a-88aee8596019"
      },
      "source": [
        "from xgboost_ray import RayDMatrix, RayParams, predict\n",
        "from sklearn.datasets import load_breast_cancer\n",
        "import xgboost as xgb\n",
        "\n",
        "data, labels = load_breast_cancer(return_X_y=True)\n",
        "\n",
        "dpred = RayDMatrix(data, labels)\n",
        "\n",
        "bst = xgb.Booster(model_file=\"model.xgb\")\n",
        "pred_ray = predict(bst, dpred, ray_params=RayParams(num_actors=2))\n",
        "\n",
        "print(pred_ray)"
      ],
      "execution_count": 5,
      "outputs": [
        {
          "output_type": "stream",
          "name": "stderr",
          "text": [
            "/usr/local/lib/python3.7/dist-packages/xgboost_ray/main.py:166: UserWarning: You are using `xgboost_ray` with a legacy XGBoost version (version 0.90). While we try to support older XGBoost versions, please note that this library is only fully tested and supported for XGBoost >= 1.4. Please consider upgrading your XGBoost version (`pip install -U xgboost`).\n",
            "  warnings.warn(LEGACY_WARNING)\n",
            "2021-11-10 12:37:54,962\tINFO main.py:1535 -- [RayXGBoost] Created 2 remote actors.\n",
            "2021-11-10 12:37:57,515\tINFO main.py:1552 -- [RayXGBoost] Starting XGBoost prediction.\n"
          ]
        },
        {
          "output_type": "stream",
          "name": "stdout",
          "text": [
            "[0.07511145 0.04715708 0.02642454 0.11464816 0.08779665 0.19609766\n",
            " 0.02642454 0.03200296 0.03968306 0.06930447 0.09290799 0.02642454\n",
            " 0.03476055 0.05490047 0.05012454 0.02642454 0.03337562 0.02642454\n",
            " 0.02642454 0.9528658  0.9751126  0.9751126  0.07511145 0.02642454\n",
            " 0.02642454 0.04102892 0.03118352 0.02642454 0.02642454 0.08779665\n",
            " 0.02642454 0.03476055 0.02642454 0.02642454 0.02642454 0.02642454\n",
            " 0.0665335  0.9690314  0.33619487 0.0696831  0.5729184  0.15662025\n",
            " 0.03451282 0.03200296 0.12301622 0.04102892 0.9751126  0.04096693\n",
            " 0.97315884 0.9234187  0.9751126  0.9751126  0.9751126  0.03059936\n",
            " 0.09855346 0.9751126  0.02642454 0.03755146 0.9751126  0.97315884\n",
            " 0.9751126  0.97315884 0.02642454 0.9751126  0.03120249 0.03120249\n",
            " 0.97315884 0.9751126  0.8630876  0.9751126  0.02642454 0.9751126\n",
            " 0.02642454 0.18486539 0.9751126  0.02642454 0.9684864  0.07511145\n",
            " 0.04528174 0.9751126  0.97315884 0.8423582  0.02642454 0.02642454\n",
            " 0.9751126  0.02642454 0.18525673 0.02642454 0.9610139  0.91992867\n",
            " 0.9637276  0.07784454 0.9476124  0.9751126  0.02642454 0.02642454\n",
            " 0.9751126  0.9690314  0.97315884 0.04415701 0.10755398 0.97315884\n",
            " 0.9751126  0.97315884 0.9751126  0.07822353 0.9541412  0.9751126\n",
            " 0.03451282 0.97315884 0.97315884 0.9505852  0.8015017  0.9751126\n",
            " 0.97315884 0.97315884 0.9690314  0.02642454 0.02642454 0.03059936\n",
            " 0.97315884 0.02642454 0.03451282 0.93471986 0.9751126  0.9751126\n",
            " 0.08796025 0.03059936 0.89851445 0.02642454 0.97315884 0.02642454\n",
            " 0.03059936 0.8943731  0.03059936 0.83710206 0.9690314  0.9751126\n",
            " 0.04825843 0.9751126  0.9751126  0.06849893 0.9751126  0.9751126\n",
            " 0.9751126  0.97315884 0.14397003 0.9537103  0.8998925  0.9543276\n",
            " 0.9751126  0.97315884 0.911794   0.9751126  0.9622466  0.9751126\n",
            " 0.02642454 0.64313    0.9751126  0.9751126  0.95592535 0.08779665\n",
            " 0.02642454 0.97315884 0.02642454 0.9657479  0.97315884 0.03337562\n",
            " 0.02642454 0.9724673  0.9751126  0.0708931  0.07511145 0.9690314\n",
            " 0.96707124 0.9751126  0.9751126  0.02642454 0.95819813 0.9690314\n",
            " 0.02642454 0.02642454 0.03337562 0.9690314  0.09398807 0.97315884\n",
            " 0.03517583 0.9751126  0.9751126  0.9751126  0.04069214 0.77108157\n",
            " 0.9434622  0.08649345 0.02786062 0.9751126  0.03120249 0.07338996\n",
            " 0.02642454 0.03118352 0.97315884 0.02642454 0.02642454 0.02642454\n",
            " 0.9622466  0.21271785 0.9751126  0.06340088 0.8858816  0.8857505\n",
            " 0.02642454 0.9751126  0.08779665 0.04224477 0.03755146 0.04096693\n",
            " 0.96730274 0.9751126  0.02642454 0.02642454 0.9751126  0.9751126\n",
            " 0.9751126  0.02642454 0.9751126  0.92772865 0.9751126  0.95374286\n",
            " 0.9610139  0.0557286  0.02642454 0.94982344 0.94982344 0.02642454\n",
            " 0.97315884 0.9751126  0.02642454 0.02863778 0.90234286 0.02642454\n",
            " 0.9751126  0.9543276  0.96730274 0.9649017  0.02642454 0.97315884\n",
            " 0.9751126  0.9469942  0.93040526 0.9751126  0.03451282 0.9751126\n",
            " 0.02642454 0.02642454 0.02642454 0.11561671 0.02642454 0.031783\n",
            " 0.03476055 0.02786062 0.02642454 0.09290799 0.02642454 0.21080676\n",
            " 0.02642454 0.02642454 0.9751126  0.9751126  0.9751126  0.9751126\n",
            " 0.9751126  0.9751126  0.02642454 0.97315884 0.04558344 0.8849121\n",
            " 0.9751126  0.03059936 0.96707124 0.9751126  0.02642454 0.9560918\n",
            " 0.02642454 0.04338858 0.9751126  0.9751126  0.96730274 0.9751126\n",
            " 0.9684864  0.9751126  0.8488096  0.7803997  0.9622466  0.9751126\n",
            " 0.9751126  0.9751126  0.9751126  0.5849058  0.92148197 0.9751126\n",
            " 0.02642454 0.9751126  0.02642454 0.9751126  0.9751126  0.9751126\n",
            " 0.9751126  0.9751126  0.9683355  0.9751126  0.9751126  0.9548208\n",
            " 0.9751126  0.9751126  0.9751126  0.9690314  0.96707124 0.02642454\n",
            " 0.968825   0.9690314  0.9751126  0.04054494 0.9265608  0.02642454\n",
            " 0.9751126  0.9751126  0.9751126  0.9751126  0.02642454 0.05098807\n",
            " 0.031783   0.9751126  0.97315884 0.9751126  0.9751126  0.02642454\n",
            " 0.9751126  0.02642454 0.9751126  0.02642454 0.89866334 0.9751126\n",
            " 0.9751126  0.02642454 0.97315884 0.9751126  0.9751126  0.9203737\n",
            " 0.97315884 0.9751126  0.9751126  0.03451282 0.031783   0.02642454\n",
            " 0.9751126  0.9751126  0.9206134  0.9751126  0.95757306 0.9751126\n",
            " 0.96707124 0.9751126  0.9751126  0.7381298  0.9751126  0.02642454\n",
            " 0.02642454 0.9751126  0.02642454 0.02642454 0.02642454 0.9523307\n",
            " 0.04687763 0.031783   0.9751126  0.8943731  0.94464666 0.94982344\n",
            " 0.9751126  0.22631724 0.9487874  0.9751126  0.9751126  0.97315884\n",
            " 0.9751126  0.08594519 0.9751126  0.9751126  0.9751126  0.02642454\n",
            " 0.9751126  0.97315884 0.02642454 0.02642454 0.97315884 0.9751126\n",
            " 0.8689699  0.9690314  0.9751126  0.9751126  0.02642454 0.9751126\n",
            " 0.9751126  0.9543276  0.9751126  0.9751126  0.8515399  0.9350665\n",
            " 0.02642454 0.9751126  0.9251611  0.9751126  0.9751126  0.860673\n",
            " 0.1858404  0.97315884 0.97315884 0.02642454 0.9751126  0.9751126\n",
            " 0.9751126  0.8970261  0.9751126  0.9609949  0.893762   0.9751126\n",
            " 0.9751126  0.9751126  0.9751126  0.96707124 0.02786062 0.9622466\n",
            " 0.02642454 0.02642454 0.9724673  0.03678946 0.9751126  0.9751126\n",
            " 0.9751126  0.9751126  0.95394206 0.02642454 0.9690314  0.9751126\n",
            " 0.04687763 0.94922996 0.02642454 0.9724673  0.9100143  0.02642454\n",
            " 0.9751126  0.02642454 0.94982344 0.9532535  0.9751126  0.9179891\n",
            " 0.935264   0.94982344 0.9751126  0.94982344 0.02642454 0.02642454\n",
            " 0.9751126  0.9751126  0.9751126  0.897271   0.96229064 0.9751126\n",
            " 0.02642454 0.9019002  0.9751126  0.9134064  0.87593234 0.94982344\n",
            " 0.9751126  0.9751126  0.81142044 0.9543276  0.9751126  0.031783\n",
            " 0.9751126  0.9476124  0.95515615 0.9543276  0.77870756 0.95053387\n",
            " 0.9548208  0.02642454 0.97315884 0.13313308 0.9751126  0.66283953\n",
            " 0.02642454 0.9751126  0.9751126  0.9008776  0.9407183  0.9751126\n",
            " 0.031783   0.02642454 0.9318961  0.04316882 0.9622466  0.02875218\n",
            " 0.9684864  0.9684864  0.9751126  0.97315884 0.9424551  0.02939261\n",
            " 0.9751126  0.96550983 0.03120249 0.93631655 0.1288219  0.9645091\n",
            " 0.02642454 0.02642454 0.9505852  0.9622466  0.97315884 0.02642454\n",
            " 0.9751126  0.9528658  0.97315884 0.97315884 0.93502516 0.9751126\n",
            " 0.950505   0.97315884 0.9751126  0.97315884 0.96634287 0.02642454\n",
            " 0.97315884 0.02642454 0.15464528 0.9293252  0.9751126  0.97315884\n",
            " 0.9751126  0.860673   0.94011134 0.9417494  0.9751126  0.9751126\n",
            " 0.9751126  0.97315884 0.9751126  0.9751126  0.9751126  0.9751126\n",
            " 0.94982344 0.9751126  0.94982344 0.88763565 0.9751126  0.94982344\n",
            " 0.9641301  0.88763565 0.92064005 0.9379563  0.02786062 0.02642454\n",
            " 0.02642454 0.02642454 0.03059936 0.02642454 0.9751126 ]\n"
          ]
        }
      ]
    },
    {
      "cell_type": "markdown",
      "metadata": {
        "id": "uktHJdLT3rfm"
      },
      "source": [
        "## Hyperparameter optimization"
      ]
    },
    {
      "cell_type": "code",
      "metadata": {
        "colab": {
          "base_uri": "https://localhost:8080/",
          "height": 1000
        },
        "id": "peoC4y4rw_Qj",
        "outputId": "441a8a13-22f5-4522-e513-17bd2d0db9ff"
      },
      "source": [
        "from xgboost_ray import RayDMatrix, RayParams, train\n",
        "from sklearn.datasets import load_breast_cancer\n",
        "\n",
        "num_actors = 1\n",
        "num_cpus_per_actor = 1\n",
        "\n",
        "ray_params = RayParams(\n",
        "    num_actors=num_actors, cpus_per_actor=num_cpus_per_actor)\n",
        "\n",
        "def train_model(config):\n",
        "    train_x, train_y = load_breast_cancer(return_X_y=True)\n",
        "    train_set = RayDMatrix(train_x, train_y)\n",
        "\n",
        "    evals_result = {}\n",
        "    bst = train(\n",
        "        params=config,\n",
        "        dtrain=train_set,\n",
        "        evals_result=evals_result,\n",
        "        evals=[(train_set, \"train\")],\n",
        "        verbose_eval=False,\n",
        "        ray_params=ray_params)\n",
        "    bst.save_model(\"model.xgb\")\n",
        "\n",
        "from ray import tune\n",
        "\n",
        "# Specify the hyperparameter search space.\n",
        "config = {\n",
        "    \"tree_method\": \"approx\",\n",
        "    \"objective\": \"binary:logistic\",\n",
        "    \"eval_metric\": [\"logloss\", \"error\"],\n",
        "    \"eta\": tune.loguniform(1e-4, 1e-1),\n",
        "    \"subsample\": tune.uniform(0.5, 1.0),\n",
        "    \"max_depth\": tune.randint(1, 9)\n",
        "}\n",
        "\n",
        "# Make sure to use the `get_tune_resources` method to set the `resources_per_trial`\n",
        "analysis = tune.run(\n",
        "    train_model,\n",
        "    config=config,\n",
        "    metric=\"train-error\",\n",
        "    mode=\"min\",\n",
        "    num_samples=4,\n",
        "    resources_per_trial=ray_params.get_tune_resources())\n",
        "print(\"Best hyperparameters\", analysis.best_config)"
      ],
      "execution_count": 6,
      "outputs": [
        {
          "output_type": "stream",
          "name": "stderr",
          "text": [
            "2021-11-10 12:37:57,626\tWARNING function_runner.py:564 -- Function checkpointing is disabled. This may result in unexpected behavior when using checkpointing features or certain schedulers. To enable, set the train function arguments to be `func(config, checkpoint_dir=None)`.\n",
            "2021-11-10 12:37:57,652\tINFO logger.py:606 -- pip install 'ray[tune]' to see TensorBoard files.\n",
            "2021-11-10 12:37:57,654\tWARNING callback.py:115 -- The TensorboardX logger cannot be instantiated because either TensorboardX or one of it's dependencies is not installed. Please make sure you have the latest version of TensorboardX installed: `pip install -U tensorboardx`\n"
          ]
        },
        {
          "output_type": "display_data",
          "data": {
            "text/html": [
              "== Status ==<br>Current time: 2021-11-10 12:37:57 (running for 00:00:00.17)<br>Memory usage on this node: 1.2/12.7 GiB<br>Using FIFO scheduling algorithm.<br>Resources requested: 0/2 CPUs, 0/0 GPUs, 0.0/7.3 GiB heap, 0.0/3.65 GiB objects<br>Result logdir: /root/ray_results/train_model_2021-11-10_12-37-57<br>Number of trials: 4/4 (4 PENDING)<br><table>\n",
              "<thead>\n",
              "<tr><th>Trial name             </th><th>status  </th><th>loc  </th><th style=\"text-align: right;\">        eta</th><th style=\"text-align: right;\">  max_depth</th><th style=\"text-align: right;\">  subsample</th></tr>\n",
              "</thead>\n",
              "<tbody>\n",
              "<tr><td>train_model_088ee_00000</td><td>PENDING </td><td>     </td><td style=\"text-align: right;\">0.00623427 </td><td style=\"text-align: right;\">          7</td><td style=\"text-align: right;\">   0.943351</td></tr>\n",
              "<tr><td>train_model_088ee_00001</td><td>PENDING </td><td>     </td><td style=\"text-align: right;\">0.0714974  </td><td style=\"text-align: right;\">          3</td><td style=\"text-align: right;\">   0.737249</td></tr>\n",
              "<tr><td>train_model_088ee_00002</td><td>PENDING </td><td>     </td><td style=\"text-align: right;\">0.000523812</td><td style=\"text-align: right;\">          8</td><td style=\"text-align: right;\">   0.548698</td></tr>\n",
              "<tr><td>train_model_088ee_00003</td><td>PENDING </td><td>     </td><td style=\"text-align: right;\">0.0190608  </td><td style=\"text-align: right;\">          2</td><td style=\"text-align: right;\">   0.793031</td></tr>\n",
              "</tbody>\n",
              "</table><br><br>"
            ],
            "text/plain": [
              "<IPython.core.display.HTML object>"
            ]
          },
          "metadata": {}
        },
        {
          "output_type": "stream",
          "name": "stderr",
          "text": [
            "\u001b[2m\u001b[36m(pid=1289)\u001b[0m /usr/local/lib/python3.7/dist-packages/xgboost_ray/main.py:166: UserWarning: You are using `xgboost_ray` with a legacy XGBoost version (version 0.90). While we try to support older XGBoost versions, please note that this library is only fully tested and supported for XGBoost >= 1.4. Please consider upgrading your XGBoost version (`pip install -U xgboost`).\n",
            "\u001b[2m\u001b[36m(pid=1289)\u001b[0m   warnings.warn(LEGACY_WARNING)\n",
            "\u001b[2m\u001b[36m(pid=1289)\u001b[0m /usr/local/lib/python3.7/dist-packages/xgboost_ray/main.py:422: UserWarning: `num_actors` in `ray_params` is smaller than 2 (1). XGBoost will NOT be distributed!\n",
            "\u001b[2m\u001b[36m(pid=1289)\u001b[0m   f\"`num_actors` in `ray_params` is smaller than 2 \"\n",
            "\u001b[2m\u001b[36m(pid=1289)\u001b[0m 2021-11-10 12:38:00,421\tINFO main.py:971 -- [RayXGBoost] Created 1 new actors (1 total actors). Waiting until actors are ready for training.\n"
          ]
        },
        {
          "output_type": "display_data",
          "data": {
            "text/html": [
              "== Status ==<br>Current time: 2021-11-10 12:38:02 (running for 00:00:05.17)<br>Memory usage on this node: 1.3/12.7 GiB<br>Using FIFO scheduling algorithm.<br>Resources requested: 2.0/2 CPUs, 0/0 GPUs, 0.0/7.3 GiB heap, 0.0/3.65 GiB objects<br>Result logdir: /root/ray_results/train_model_2021-11-10_12-37-57<br>Number of trials: 4/4 (3 PENDING, 1 RUNNING)<br><table>\n",
              "<thead>\n",
              "<tr><th>Trial name             </th><th>status  </th><th>loc            </th><th style=\"text-align: right;\">        eta</th><th style=\"text-align: right;\">  max_depth</th><th style=\"text-align: right;\">  subsample</th></tr>\n",
              "</thead>\n",
              "<tbody>\n",
              "<tr><td>train_model_088ee_00000</td><td>RUNNING </td><td>172.28.0.2:1289</td><td style=\"text-align: right;\">0.00623427 </td><td style=\"text-align: right;\">          7</td><td style=\"text-align: right;\">   0.943351</td></tr>\n",
              "<tr><td>train_model_088ee_00001</td><td>PENDING </td><td>               </td><td style=\"text-align: right;\">0.0714974  </td><td style=\"text-align: right;\">          3</td><td style=\"text-align: right;\">   0.737249</td></tr>\n",
              "<tr><td>train_model_088ee_00002</td><td>PENDING </td><td>               </td><td style=\"text-align: right;\">0.000523812</td><td style=\"text-align: right;\">          8</td><td style=\"text-align: right;\">   0.548698</td></tr>\n",
              "<tr><td>train_model_088ee_00003</td><td>PENDING </td><td>               </td><td style=\"text-align: right;\">0.0190608  </td><td style=\"text-align: right;\">          2</td><td style=\"text-align: right;\">   0.793031</td></tr>\n",
              "</tbody>\n",
              "</table><br><br>"
            ],
            "text/plain": [
              "<IPython.core.display.HTML object>"
            ]
          },
          "metadata": {}
        },
        {
          "output_type": "stream",
          "name": "stderr",
          "text": [
            "\u001b[2m\u001b[36m(pid=1289)\u001b[0m 2021-11-10 12:38:03,138\tINFO main.py:1016 -- [RayXGBoost] Starting XGBoost training.\n"
          ]
        },
        {
          "output_type": "stream",
          "name": "stdout",
          "text": [
            "Result for train_model_088ee_00000:\n",
            "  date: 2021-11-10_12-38-04\n",
            "  done: false\n",
            "  experiment_id: 851c9bef561b47a0988e12f3cf879984\n",
            "  hostname: 9cb2033ddaeb\n",
            "  iterations_since_restore: 1\n",
            "  node_ip: 172.28.0.2\n",
            "  pid: 1289\n",
            "  time_since_restore: 3.821312427520752\n",
            "  time_this_iter_s: 3.821312427520752\n",
            "  time_total_s: 3.821312427520752\n",
            "  timestamp: 1636547884\n",
            "  timesteps_since_restore: 0\n",
            "  train-error: 0.029877\n",
            "  train-logloss: 0.687657\n",
            "  training_iteration: 1\n",
            "  trial_id: 088ee_00000\n",
            "  \n",
            "Result for train_model_088ee_00000:\n",
            "  date: 2021-11-10_12-38-04\n",
            "  done: true\n",
            "  experiment_id: 851c9bef561b47a0988e12f3cf879984\n",
            "  experiment_tag: 0_eta=0.0062343,max_depth=7,subsample=0.94335\n",
            "  hostname: 9cb2033ddaeb\n",
            "  iterations_since_restore: 10\n",
            "  node_ip: 172.28.0.2\n",
            "  pid: 1289\n",
            "  time_since_restore: 3.979233980178833\n",
            "  time_this_iter_s: 0.006816864013671875\n",
            "  time_total_s: 3.979233980178833\n",
            "  timestamp: 1636547884\n",
            "  timesteps_since_restore: 0\n",
            "  train-error: 0.008787\n",
            "  train-logloss: 0.640539\n",
            "  training_iteration: 10\n",
            "  trial_id: 088ee_00000\n",
            "  \n"
          ]
        },
        {
          "output_type": "stream",
          "name": "stderr",
          "text": [
            "\u001b[2m\u001b[36m(pid=1289)\u001b[0m 2021-11-10 12:38:04,335\tINFO main.py:1498 -- [RayXGBoost] Finished XGBoost training on training data with total N=569 in 3.98 seconds (1.19 pure XGBoost training time).\n",
            "\u001b[2m\u001b[36m(pid=1395)\u001b[0m /usr/local/lib/python3.7/dist-packages/xgboost_ray/main.py:166: UserWarning: You are using `xgboost_ray` with a legacy XGBoost version (version 0.90). While we try to support older XGBoost versions, please note that this library is only fully tested and supported for XGBoost >= 1.4. Please consider upgrading your XGBoost version (`pip install -U xgboost`).\n",
            "\u001b[2m\u001b[36m(pid=1395)\u001b[0m   warnings.warn(LEGACY_WARNING)\n",
            "\u001b[2m\u001b[36m(pid=1395)\u001b[0m /usr/local/lib/python3.7/dist-packages/xgboost_ray/main.py:422: UserWarning: `num_actors` in `ray_params` is smaller than 2 (1). XGBoost will NOT be distributed!\n",
            "\u001b[2m\u001b[36m(pid=1395)\u001b[0m   f\"`num_actors` in `ray_params` is smaller than 2 \"\n",
            "\u001b[2m\u001b[36m(pid=1395)\u001b[0m 2021-11-10 12:38:06,442\tINFO main.py:971 -- [RayXGBoost] Created 1 new actors (1 total actors). Waiting until actors are ready for training.\n"
          ]
        },
        {
          "output_type": "display_data",
          "data": {
            "text/html": [
              "== Status ==<br>Current time: 2021-11-10 12:38:07 (running for 00:00:10.20)<br>Memory usage on this node: 1.3/12.7 GiB<br>Using FIFO scheduling algorithm.<br>Resources requested: 2.0/2 CPUs, 0/0 GPUs, 0.0/7.3 GiB heap, 0.0/3.65 GiB objects<br>Current best trial: 088ee_00000 with train-error=0.008787 and parameters={'tree_method': 'approx', 'objective': 'binary:logistic', 'eval_metric': ['logloss', 'error'], 'eta': 0.006234271492854062, 'subsample': 0.9433507825155405, 'max_depth': 7, 'nthread': 1, 'n_jobs': 1}<br>Result logdir: /root/ray_results/train_model_2021-11-10_12-37-57<br>Number of trials: 4/4 (2 PENDING, 1 RUNNING, 1 TERMINATED)<br><table>\n",
              "<thead>\n",
              "<tr><th>Trial name             </th><th>status    </th><th>loc            </th><th style=\"text-align: right;\">        eta</th><th style=\"text-align: right;\">  max_depth</th><th style=\"text-align: right;\">  subsample</th><th style=\"text-align: right;\">  iter</th><th style=\"text-align: right;\">  total time (s)</th><th style=\"text-align: right;\">  train-logloss</th><th style=\"text-align: right;\">  train-error</th></tr>\n",
              "</thead>\n",
              "<tbody>\n",
              "<tr><td>train_model_088ee_00001</td><td>RUNNING   </td><td>172.28.0.2:1395</td><td style=\"text-align: right;\">0.0714974  </td><td style=\"text-align: right;\">          3</td><td style=\"text-align: right;\">   0.737249</td><td style=\"text-align: right;\">      </td><td style=\"text-align: right;\">                </td><td style=\"text-align: right;\">               </td><td style=\"text-align: right;\">             </td></tr>\n",
              "<tr><td>train_model_088ee_00002</td><td>PENDING   </td><td>               </td><td style=\"text-align: right;\">0.000523812</td><td style=\"text-align: right;\">          8</td><td style=\"text-align: right;\">   0.548698</td><td style=\"text-align: right;\">      </td><td style=\"text-align: right;\">                </td><td style=\"text-align: right;\">               </td><td style=\"text-align: right;\">             </td></tr>\n",
              "<tr><td>train_model_088ee_00003</td><td>PENDING   </td><td>               </td><td style=\"text-align: right;\">0.0190608  </td><td style=\"text-align: right;\">          2</td><td style=\"text-align: right;\">   0.793031</td><td style=\"text-align: right;\">      </td><td style=\"text-align: right;\">                </td><td style=\"text-align: right;\">               </td><td style=\"text-align: right;\">             </td></tr>\n",
              "<tr><td>train_model_088ee_00000</td><td>TERMINATED</td><td>172.28.0.2:1289</td><td style=\"text-align: right;\">0.00623427 </td><td style=\"text-align: right;\">          7</td><td style=\"text-align: right;\">   0.943351</td><td style=\"text-align: right;\">    10</td><td style=\"text-align: right;\">         3.97923</td><td style=\"text-align: right;\">       0.640539</td><td style=\"text-align: right;\">     0.008787</td></tr>\n",
              "</tbody>\n",
              "</table><br><br>"
            ],
            "text/plain": [
              "<IPython.core.display.HTML object>"
            ]
          },
          "metadata": {}
        },
        {
          "output_type": "stream",
          "name": "stderr",
          "text": [
            "\u001b[2m\u001b[36m(pid=1395)\u001b[0m 2021-11-10 12:38:09,165\tINFO main.py:1016 -- [RayXGBoost] Starting XGBoost training.\n"
          ]
        },
        {
          "output_type": "stream",
          "name": "stdout",
          "text": [
            "Result for train_model_088ee_00001:\n",
            "  date: 2021-11-10_12-38-10\n",
            "  done: false\n",
            "  experiment_id: 7091f78a326b4b86b5324c6a8d0a4522\n",
            "  hostname: 9cb2033ddaeb\n",
            "  iterations_since_restore: 1\n",
            "  node_ip: 172.28.0.2\n",
            "  pid: 1395\n",
            "  time_since_restore: 3.8300869464874268\n",
            "  time_this_iter_s: 3.8300869464874268\n",
            "  time_total_s: 3.8300869464874268\n",
            "  timestamp: 1636547890\n",
            "  timesteps_since_restore: 0\n",
            "  train-error: 0.045694\n",
            "  train-logloss: 0.635229\n",
            "  training_iteration: 1\n",
            "  trial_id: 088ee_00001\n",
            "  \n",
            "Result for train_model_088ee_00001:\n",
            "  date: 2021-11-10_12-38-10\n",
            "  done: true\n",
            "  experiment_id: 7091f78a326b4b86b5324c6a8d0a4522\n",
            "  experiment_tag: 1_eta=0.071497,max_depth=3,subsample=0.73725\n",
            "  hostname: 9cb2033ddaeb\n",
            "  iterations_since_restore: 10\n",
            "  node_ip: 172.28.0.2\n",
            "  pid: 1395\n",
            "  time_since_restore: 3.9176175594329834\n",
            "  time_this_iter_s: 0.0059545040130615234\n",
            "  time_total_s: 3.9176175594329834\n",
            "  timestamp: 1636547890\n",
            "  timesteps_since_restore: 0\n",
            "  train-error: 0.024605\n",
            "  train-logloss: 0.327906\n",
            "  training_iteration: 10\n",
            "  trial_id: 088ee_00001\n",
            "  \n"
          ]
        },
        {
          "output_type": "stream",
          "name": "stderr",
          "text": [
            "\u001b[2m\u001b[36m(pid=1395)\u001b[0m 2021-11-10 12:38:10,329\tINFO main.py:1498 -- [RayXGBoost] Finished XGBoost training on training data with total N=569 in 3.96 seconds (1.16 pure XGBoost training time).\n",
            "\u001b[2m\u001b[36m(pid=1501)\u001b[0m /usr/local/lib/python3.7/dist-packages/xgboost_ray/main.py:166: UserWarning: You are using `xgboost_ray` with a legacy XGBoost version (version 0.90). While we try to support older XGBoost versions, please note that this library is only fully tested and supported for XGBoost >= 1.4. Please consider upgrading your XGBoost version (`pip install -U xgboost`).\n",
            "\u001b[2m\u001b[36m(pid=1501)\u001b[0m   warnings.warn(LEGACY_WARNING)\n",
            "\u001b[2m\u001b[36m(pid=1501)\u001b[0m /usr/local/lib/python3.7/dist-packages/xgboost_ray/main.py:422: UserWarning: `num_actors` in `ray_params` is smaller than 2 (1). XGBoost will NOT be distributed!\n",
            "\u001b[2m\u001b[36m(pid=1501)\u001b[0m   f\"`num_actors` in `ray_params` is smaller than 2 \"\n",
            "\u001b[2m\u001b[36m(pid=1501)\u001b[0m 2021-11-10 12:38:12,411\tINFO main.py:971 -- [RayXGBoost] Created 1 new actors (1 total actors). Waiting until actors are ready for training.\n"
          ]
        },
        {
          "output_type": "display_data",
          "data": {
            "text/html": [
              "== Status ==<br>Current time: 2021-11-10 12:38:13 (running for 00:00:15.71)<br>Memory usage on this node: 1.2/12.7 GiB<br>Using FIFO scheduling algorithm.<br>Resources requested: 2.0/2 CPUs, 0/0 GPUs, 0.0/7.3 GiB heap, 0.0/3.65 GiB objects<br>Current best trial: 088ee_00000 with train-error=0.008787 and parameters={'tree_method': 'approx', 'objective': 'binary:logistic', 'eval_metric': ['logloss', 'error'], 'eta': 0.006234271492854062, 'subsample': 0.9433507825155405, 'max_depth': 7, 'nthread': 1, 'n_jobs': 1}<br>Result logdir: /root/ray_results/train_model_2021-11-10_12-37-57<br>Number of trials: 4/4 (1 PENDING, 1 RUNNING, 2 TERMINATED)<br><table>\n",
              "<thead>\n",
              "<tr><th>Trial name             </th><th>status    </th><th>loc            </th><th style=\"text-align: right;\">        eta</th><th style=\"text-align: right;\">  max_depth</th><th style=\"text-align: right;\">  subsample</th><th style=\"text-align: right;\">  iter</th><th style=\"text-align: right;\">  total time (s)</th><th style=\"text-align: right;\">  train-logloss</th><th style=\"text-align: right;\">  train-error</th></tr>\n",
              "</thead>\n",
              "<tbody>\n",
              "<tr><td>train_model_088ee_00002</td><td>RUNNING   </td><td>172.28.0.2:1501</td><td style=\"text-align: right;\">0.000523812</td><td style=\"text-align: right;\">          8</td><td style=\"text-align: right;\">   0.548698</td><td style=\"text-align: right;\">      </td><td style=\"text-align: right;\">                </td><td style=\"text-align: right;\">               </td><td style=\"text-align: right;\">             </td></tr>\n",
              "<tr><td>train_model_088ee_00003</td><td>PENDING   </td><td>               </td><td style=\"text-align: right;\">0.0190608  </td><td style=\"text-align: right;\">          2</td><td style=\"text-align: right;\">   0.793031</td><td style=\"text-align: right;\">      </td><td style=\"text-align: right;\">                </td><td style=\"text-align: right;\">               </td><td style=\"text-align: right;\">             </td></tr>\n",
              "<tr><td>train_model_088ee_00000</td><td>TERMINATED</td><td>172.28.0.2:1289</td><td style=\"text-align: right;\">0.00623427 </td><td style=\"text-align: right;\">          7</td><td style=\"text-align: right;\">   0.943351</td><td style=\"text-align: right;\">    10</td><td style=\"text-align: right;\">         3.97923</td><td style=\"text-align: right;\">       0.640539</td><td style=\"text-align: right;\">     0.008787</td></tr>\n",
              "<tr><td>train_model_088ee_00001</td><td>TERMINATED</td><td>172.28.0.2:1395</td><td style=\"text-align: right;\">0.0714974  </td><td style=\"text-align: right;\">          3</td><td style=\"text-align: right;\">   0.737249</td><td style=\"text-align: right;\">    10</td><td style=\"text-align: right;\">         3.91762</td><td style=\"text-align: right;\">       0.327906</td><td style=\"text-align: right;\">     0.024605</td></tr>\n",
              "</tbody>\n",
              "</table><br><br>"
            ],
            "text/plain": [
              "<IPython.core.display.HTML object>"
            ]
          },
          "metadata": {}
        },
        {
          "output_type": "stream",
          "name": "stderr",
          "text": [
            "\u001b[2m\u001b[36m(pid=1501)\u001b[0m 2021-11-10 12:38:15,129\tINFO main.py:1016 -- [RayXGBoost] Starting XGBoost training.\n"
          ]
        },
        {
          "output_type": "stream",
          "name": "stdout",
          "text": [
            "Result for train_model_088ee_00002:\n",
            "  date: 2021-11-10_12-38-16\n",
            "  done: false\n",
            "  experiment_id: 3f15cc14f91b450b8570f5a69e1045cf\n",
            "  hostname: 9cb2033ddaeb\n",
            "  iterations_since_restore: 1\n",
            "  node_ip: 172.28.0.2\n",
            "  pid: 1501\n",
            "  time_since_restore: 3.8104159832000732\n",
            "  time_this_iter_s: 3.8104159832000732\n",
            "  time_total_s: 3.8104159832000732\n",
            "  timestamp: 1636547896\n",
            "  timesteps_since_restore: 0\n",
            "  train-error: 0.035149\n",
            "  train-logloss: 0.692683\n",
            "  training_iteration: 1\n",
            "  trial_id: 088ee_00002\n",
            "  \n",
            "Result for train_model_088ee_00002:\n",
            "  date: 2021-11-10_12-38-16\n",
            "  done: true\n",
            "  experiment_id: 3f15cc14f91b450b8570f5a69e1045cf\n",
            "  experiment_tag: 2_eta=0.00052381,max_depth=8,subsample=0.5487\n",
            "  hostname: 9cb2033ddaeb\n",
            "  iterations_since_restore: 10\n",
            "  node_ip: 172.28.0.2\n",
            "  pid: 1501\n",
            "  time_since_restore: 3.8944265842437744\n",
            "  time_this_iter_s: 0.006228208541870117\n",
            "  time_total_s: 3.8944265842437744\n",
            "  timestamp: 1636547896\n",
            "  timesteps_since_restore: 0\n",
            "  train-error: 0.022847\n",
            "  train-logloss: 0.688733\n",
            "  training_iteration: 10\n",
            "  trial_id: 088ee_00002\n",
            "  \n"
          ]
        },
        {
          "output_type": "stream",
          "name": "stderr",
          "text": [
            "\u001b[2m\u001b[36m(pid=1501)\u001b[0m 2021-11-10 12:38:16,291\tINFO main.py:1498 -- [RayXGBoost] Finished XGBoost training on training data with total N=569 in 3.94 seconds (1.16 pure XGBoost training time).\n",
            "\u001b[2m\u001b[36m(pid=1605)\u001b[0m /usr/local/lib/python3.7/dist-packages/xgboost_ray/main.py:166: UserWarning: You are using `xgboost_ray` with a legacy XGBoost version (version 0.90). While we try to support older XGBoost versions, please note that this library is only fully tested and supported for XGBoost >= 1.4. Please consider upgrading your XGBoost version (`pip install -U xgboost`).\n",
            "\u001b[2m\u001b[36m(pid=1605)\u001b[0m   warnings.warn(LEGACY_WARNING)\n",
            "\u001b[2m\u001b[36m(pid=1605)\u001b[0m /usr/local/lib/python3.7/dist-packages/xgboost_ray/main.py:422: UserWarning: `num_actors` in `ray_params` is smaller than 2 (1). XGBoost will NOT be distributed!\n",
            "\u001b[2m\u001b[36m(pid=1605)\u001b[0m   f\"`num_actors` in `ray_params` is smaller than 2 \"\n",
            "\u001b[2m\u001b[36m(pid=1605)\u001b[0m 2021-11-10 12:38:18,376\tINFO main.py:971 -- [RayXGBoost] Created 1 new actors (1 total actors). Waiting until actors are ready for training.\n"
          ]
        },
        {
          "output_type": "display_data",
          "data": {
            "text/html": [
              "== Status ==<br>Current time: 2021-11-10 12:38:19 (running for 00:00:21.69)<br>Memory usage on this node: 1.2/12.7 GiB<br>Using FIFO scheduling algorithm.<br>Resources requested: 2.0/2 CPUs, 0/0 GPUs, 0.0/7.3 GiB heap, 0.0/3.65 GiB objects<br>Current best trial: 088ee_00000 with train-error=0.008787 and parameters={'tree_method': 'approx', 'objective': 'binary:logistic', 'eval_metric': ['logloss', 'error'], 'eta': 0.006234271492854062, 'subsample': 0.9433507825155405, 'max_depth': 7, 'nthread': 1, 'n_jobs': 1}<br>Result logdir: /root/ray_results/train_model_2021-11-10_12-37-57<br>Number of trials: 4/4 (1 RUNNING, 3 TERMINATED)<br><table>\n",
              "<thead>\n",
              "<tr><th>Trial name             </th><th>status    </th><th>loc            </th><th style=\"text-align: right;\">        eta</th><th style=\"text-align: right;\">  max_depth</th><th style=\"text-align: right;\">  subsample</th><th style=\"text-align: right;\">  iter</th><th style=\"text-align: right;\">  total time (s)</th><th style=\"text-align: right;\">  train-logloss</th><th style=\"text-align: right;\">  train-error</th></tr>\n",
              "</thead>\n",
              "<tbody>\n",
              "<tr><td>train_model_088ee_00003</td><td>RUNNING   </td><td>172.28.0.2:1605</td><td style=\"text-align: right;\">0.0190608  </td><td style=\"text-align: right;\">          2</td><td style=\"text-align: right;\">   0.793031</td><td style=\"text-align: right;\">      </td><td style=\"text-align: right;\">                </td><td style=\"text-align: right;\">               </td><td style=\"text-align: right;\">             </td></tr>\n",
              "<tr><td>train_model_088ee_00000</td><td>TERMINATED</td><td>172.28.0.2:1289</td><td style=\"text-align: right;\">0.00623427 </td><td style=\"text-align: right;\">          7</td><td style=\"text-align: right;\">   0.943351</td><td style=\"text-align: right;\">    10</td><td style=\"text-align: right;\">         3.97923</td><td style=\"text-align: right;\">       0.640539</td><td style=\"text-align: right;\">     0.008787</td></tr>\n",
              "<tr><td>train_model_088ee_00001</td><td>TERMINATED</td><td>172.28.0.2:1395</td><td style=\"text-align: right;\">0.0714974  </td><td style=\"text-align: right;\">          3</td><td style=\"text-align: right;\">   0.737249</td><td style=\"text-align: right;\">    10</td><td style=\"text-align: right;\">         3.91762</td><td style=\"text-align: right;\">       0.327906</td><td style=\"text-align: right;\">     0.024605</td></tr>\n",
              "<tr><td>train_model_088ee_00002</td><td>TERMINATED</td><td>172.28.0.2:1501</td><td style=\"text-align: right;\">0.000523812</td><td style=\"text-align: right;\">          8</td><td style=\"text-align: right;\">   0.548698</td><td style=\"text-align: right;\">    10</td><td style=\"text-align: right;\">         3.89443</td><td style=\"text-align: right;\">       0.688733</td><td style=\"text-align: right;\">     0.022847</td></tr>\n",
              "</tbody>\n",
              "</table><br><br>"
            ],
            "text/plain": [
              "<IPython.core.display.HTML object>"
            ]
          },
          "metadata": {}
        },
        {
          "output_type": "stream",
          "name": "stderr",
          "text": [
            "\u001b[2m\u001b[36m(pid=1605)\u001b[0m 2021-11-10 12:38:21,113\tINFO main.py:1016 -- [RayXGBoost] Starting XGBoost training.\n"
          ]
        },
        {
          "output_type": "stream",
          "name": "stdout",
          "text": [
            "Result for train_model_088ee_00003:\n",
            "  date: 2021-11-10_12-38-22\n",
            "  done: false\n",
            "  experiment_id: dcf834acd8a94a3a9a0d95882998bdaa\n",
            "  hostname: 9cb2033ddaeb\n",
            "  iterations_since_restore: 1\n",
            "  node_ip: 172.28.0.2\n",
            "  pid: 1605\n",
            "  time_since_restore: 3.843522787094116\n",
            "  time_this_iter_s: 3.843522787094116\n",
            "  time_total_s: 3.843522787094116\n",
            "  timestamp: 1636547902\n",
            "  timesteps_since_restore: 0\n",
            "  train-error: 0.050967\n",
            "  train-logloss: 0.677723\n",
            "  training_iteration: 1\n",
            "  trial_id: 088ee_00003\n",
            "  \n",
            "Result for train_model_088ee_00003:\n",
            "  date: 2021-11-10_12-38-22\n",
            "  done: true\n",
            "  experiment_id: dcf834acd8a94a3a9a0d95882998bdaa\n",
            "  experiment_tag: 3_eta=0.019061,max_depth=2,subsample=0.79303\n",
            "  hostname: 9cb2033ddaeb\n",
            "  iterations_since_restore: 10\n",
            "  node_ip: 172.28.0.2\n",
            "  pid: 1605\n",
            "  time_since_restore: 3.9192097187042236\n",
            "  time_this_iter_s: 0.005998134613037109\n",
            "  time_total_s: 3.9192097187042236\n",
            "  timestamp: 1636547902\n",
            "  timesteps_since_restore: 0\n",
            "  train-error: 0.038664\n",
            "  train-logloss: 0.561658\n",
            "  training_iteration: 10\n",
            "  trial_id: 088ee_00003\n",
            "  \n"
          ]
        },
        {
          "output_type": "stream",
          "name": "stderr",
          "text": [
            "\u001b[2m\u001b[36m(pid=1605)\u001b[0m 2021-11-10 12:38:22,277\tINFO main.py:1498 -- [RayXGBoost] Finished XGBoost training on training data with total N=569 in 3.97 seconds (1.16 pure XGBoost training time).\n"
          ]
        },
        {
          "output_type": "display_data",
          "data": {
            "text/html": [
              "== Status ==<br>Current time: 2021-11-10 12:38:22 (running for 00:00:24.65)<br>Memory usage on this node: 1.1/12.7 GiB<br>Using FIFO scheduling algorithm.<br>Resources requested: 0/2 CPUs, 0/0 GPUs, 0.0/7.3 GiB heap, 0.0/3.65 GiB objects<br>Current best trial: 088ee_00000 with train-error=0.008787 and parameters={'tree_method': 'approx', 'objective': 'binary:logistic', 'eval_metric': ['logloss', 'error'], 'eta': 0.006234271492854062, 'subsample': 0.9433507825155405, 'max_depth': 7, 'nthread': 1, 'n_jobs': 1}<br>Result logdir: /root/ray_results/train_model_2021-11-10_12-37-57<br>Number of trials: 4/4 (4 TERMINATED)<br><table>\n",
              "<thead>\n",
              "<tr><th>Trial name             </th><th>status    </th><th>loc            </th><th style=\"text-align: right;\">        eta</th><th style=\"text-align: right;\">  max_depth</th><th style=\"text-align: right;\">  subsample</th><th style=\"text-align: right;\">  iter</th><th style=\"text-align: right;\">  total time (s)</th><th style=\"text-align: right;\">  train-logloss</th><th style=\"text-align: right;\">  train-error</th></tr>\n",
              "</thead>\n",
              "<tbody>\n",
              "<tr><td>train_model_088ee_00000</td><td>TERMINATED</td><td>172.28.0.2:1289</td><td style=\"text-align: right;\">0.00623427 </td><td style=\"text-align: right;\">          7</td><td style=\"text-align: right;\">   0.943351</td><td style=\"text-align: right;\">    10</td><td style=\"text-align: right;\">         3.97923</td><td style=\"text-align: right;\">       0.640539</td><td style=\"text-align: right;\">     0.008787</td></tr>\n",
              "<tr><td>train_model_088ee_00001</td><td>TERMINATED</td><td>172.28.0.2:1395</td><td style=\"text-align: right;\">0.0714974  </td><td style=\"text-align: right;\">          3</td><td style=\"text-align: right;\">   0.737249</td><td style=\"text-align: right;\">    10</td><td style=\"text-align: right;\">         3.91762</td><td style=\"text-align: right;\">       0.327906</td><td style=\"text-align: right;\">     0.024605</td></tr>\n",
              "<tr><td>train_model_088ee_00002</td><td>TERMINATED</td><td>172.28.0.2:1501</td><td style=\"text-align: right;\">0.000523812</td><td style=\"text-align: right;\">          8</td><td style=\"text-align: right;\">   0.548698</td><td style=\"text-align: right;\">    10</td><td style=\"text-align: right;\">         3.89443</td><td style=\"text-align: right;\">       0.688733</td><td style=\"text-align: right;\">     0.022847</td></tr>\n",
              "<tr><td>train_model_088ee_00003</td><td>TERMINATED</td><td>172.28.0.2:1605</td><td style=\"text-align: right;\">0.0190608  </td><td style=\"text-align: right;\">          2</td><td style=\"text-align: right;\">   0.793031</td><td style=\"text-align: right;\">    10</td><td style=\"text-align: right;\">         3.91921</td><td style=\"text-align: right;\">       0.561658</td><td style=\"text-align: right;\">     0.038664</td></tr>\n",
              "</tbody>\n",
              "</table><br><br>"
            ],
            "text/plain": [
              "<IPython.core.display.HTML object>"
            ]
          },
          "metadata": {}
        },
        {
          "output_type": "stream",
          "name": "stderr",
          "text": [
            "2021-11-10 12:38:22,446\tINFO tune.py:630 -- Total run time: 24.82 seconds (24.62 seconds for the tuning loop).\n"
          ]
        },
        {
          "output_type": "stream",
          "name": "stdout",
          "text": [
            "Best hyperparameters {'tree_method': 'approx', 'objective': 'binary:logistic', 'eval_metric': ['logloss', 'error'], 'eta': 0.006234271492854062, 'subsample': 0.9433507825155405, 'max_depth': 7}\n"
          ]
        }
      ]
    }
  ]
}