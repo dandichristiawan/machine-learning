{
  "nbformat": 4,
  "nbformat_minor": 0,
  "metadata": {
    "colab": {
      "name": "#6 Linear Regression Using Sklearn.ipynb",
      "provenance": [],
      "authorship_tag": "ABX9TyN4Fsc+czDU1ScC5qiO3v0s",
      "include_colab_link": true
    },
    "kernelspec": {
      "name": "python3",
      "display_name": "Python 3"
    },
    "language_info": {
      "name": "python"
    }
  },
  "cells": [
    {
      "cell_type": "markdown",
      "metadata": {
        "id": "view-in-github",
        "colab_type": "text"
      },
      "source": [
        "<a href=\"https://colab.research.google.com/github/dandichristiawan/machine-learning/blob/main/%236%20Linear%20Regression%20Using%20Sklearn.ipynb\" target=\"_parent\"><img src=\"https://colab.research.google.com/assets/colab-badge.svg\" alt=\"Open In Colab\"/></a>"
      ]
    },
    {
      "cell_type": "markdown",
      "metadata": {
        "id": "YdALJ4COptut"
      },
      "source": [
        "## Simple Linear Regression using Sklearn\n",
        "\n",
        "https://www.kaggle.com/ksekhark/simple-linear-regression-using-sklearn/notebook"
      ]
    },
    {
      "cell_type": "code",
      "metadata": {
        "colab": {
          "base_uri": "https://localhost:8080/"
        },
        "id": "j0nbZBJwpp4p",
        "outputId": "a715bf43-d094-4010-da18-df239c934cf8"
      },
      "source": [
        "from google.colab import drive\n",
        "drive.mount('/content/drive')"
      ],
      "execution_count": 1,
      "outputs": [
        {
          "output_type": "stream",
          "name": "stdout",
          "text": [
            "Mounted at /content/drive\n"
          ]
        }
      ]
    },
    {
      "cell_type": "markdown",
      "metadata": {
        "id": "4UBSWbn2qCas"
      },
      "source": [
        "## Import Library"
      ]
    },
    {
      "cell_type": "code",
      "metadata": {
        "id": "9qv0-18cqFUQ"
      },
      "source": [
        "import numpy as np # linear algebra\n",
        "import pandas as pd # data processing, CSV file I/O (e.g. pd.read_csv)\n",
        "import matplotlib.pyplot as plt # Plotting and Visualizing data"
      ],
      "execution_count": 2,
      "outputs": []
    },
    {
      "cell_type": "markdown",
      "metadata": {
        "id": "9_45EkKzqjuD"
      },
      "source": [
        "## Datasets"
      ]
    },
    {
      "cell_type": "code",
      "metadata": {
        "colab": {
          "base_uri": "https://localhost:8080/"
        },
        "id": "szVjUOmIqHWC",
        "outputId": "9fdbacd2-daa6-467f-cec4-2cc48c0882a1"
      },
      "source": [
        "data = pd.read_csv('/content/drive/MyDrive/datalinear/train.csv')\n",
        "print(data.describe())\n",
        "\n",
        "data = data[data.x <= 100]# Removing any data point above x = 100"
      ],
      "execution_count": 3,
      "outputs": [
        {
          "output_type": "stream",
          "name": "stdout",
          "text": [
            "                 x           y\n",
            "count   700.000000  699.000000\n",
            "mean     54.985939   49.939869\n",
            "std     134.681703   29.109217\n",
            "min       0.000000   -3.839981\n",
            "25%      25.000000   24.929968\n",
            "50%      49.000000   48.973020\n",
            "75%      75.000000   74.929911\n",
            "max    3530.157369  108.871618\n"
          ]
        }
      ]
    },
    {
      "cell_type": "markdown",
      "metadata": {
        "id": "1JHsEjMuqoEd"
      },
      "source": [
        "## Separating Dependent & Indepented Variables "
      ]
    },
    {
      "cell_type": "code",
      "metadata": {
        "id": "Q5BrmdpsqZtK"
      },
      "source": [
        "x = data.iloc[:, 0:1].values\n",
        "y = data.iloc[:, 1]"
      ],
      "execution_count": 6,
      "outputs": []
    },
    {
      "cell_type": "code",
      "metadata": {
        "colab": {
          "base_uri": "https://localhost:8080/"
        },
        "id": "gEMcYH0XqdpG",
        "outputId": "12e935a9-406b-40dd-d2a1-e7ffb1ee9ddd"
      },
      "source": [
        "# Train Test Split\n",
        "from sklearn.model_selection import train_test_split\n",
        "x_train, x_test, y_train, y_test = train_test_split(x, y, test_size = 0.33)\n",
        "print(x[:10])\n",
        "print('\\n')\n",
        "print(y[:10])"
      ],
      "execution_count": 5,
      "outputs": [
        {
          "output_type": "stream",
          "name": "stdout",
          "text": [
            "[[24.]\n",
            " [50.]\n",
            " [15.]\n",
            " [38.]\n",
            " [87.]\n",
            " [36.]\n",
            " [12.]\n",
            " [81.]\n",
            " [25.]\n",
            " [ 5.]]\n",
            "\n",
            "\n",
            "0    21.549452\n",
            "1    47.464463\n",
            "2    17.218656\n",
            "3    36.586398\n",
            "4    87.288984\n",
            "5    32.463875\n",
            "6    10.780897\n",
            "7    80.763399\n",
            "8    24.612151\n",
            "9     6.963319\n",
            "Name: y, dtype: float64\n"
          ]
        }
      ]
    },
    {
      "cell_type": "markdown",
      "metadata": {
        "id": "6sJypExdqy1G"
      },
      "source": [
        "## Model Import and Build"
      ]
    },
    {
      "cell_type": "code",
      "metadata": {
        "id": "dOa8oDOlqihD"
      },
      "source": [
        "from sklearn.linear_model import LinearRegression\n",
        "\n",
        "regressor = LinearRegression()\n",
        "regressor.fit(x_train, y_train)\n",
        "\n",
        "pred = regressor.predict(x_test)"
      ],
      "execution_count": 7,
      "outputs": []
    },
    {
      "cell_type": "markdown",
      "metadata": {
        "id": "8yIaFsbcq3M-"
      },
      "source": [
        "## Visualization"
      ]
    },
    {
      "cell_type": "code",
      "metadata": {
        "colab": {
          "base_uri": "https://localhost:8080/",
          "height": 313
        },
        "id": "Me-P9gJFq68r",
        "outputId": "c08de690-6e9a-4c27-b604-c7d23799edc8"
      },
      "source": [
        "plt.scatter(x_train, y_train)\n",
        "plt.plot(x_train, regressor.predict(x_train), color='black')\n",
        "plt.title('Fit on training set')\n",
        "plt.xlabel('X-Train')\n",
        "plt.ylabel('Y-Train')"
      ],
      "execution_count": 8,
      "outputs": [
        {
          "output_type": "execute_result",
          "data": {
            "text/plain": [
              "Text(0, 0.5, 'Y-Train')"
            ]
          },
          "metadata": {},
          "execution_count": 8
        },
        {
          "output_type": "display_data",
          "data": {
            "image/png": "[encoded data removed]",
            "text/plain": [
              "<Figure size 432x288 with 1 Axes>"
            ]
          },
          "metadata": {
            "needs_background": "light"
          }
        }
      ]
    },
    {
      "cell_type": "markdown",
      "metadata": {
        "id": "e_1MYhqurEVj"
      },
      "source": [
        "## Fitting on Validation Set"
      ]
    },
    {
      "cell_type": "code",
      "metadata": {
        "colab": {
          "base_uri": "https://localhost:8080/",
          "height": 313
        },
        "id": "3eyG0fX9q_FR",
        "outputId": "2c2363ac-b6f1-4711-bb25-af1ea888cbe5"
      },
      "source": [
        "plt.scatter(x_test, y_test, color='r')\n",
        "plt.plot(x_test, pred, color='b')\n",
        "plt.title('Validation set')\n",
        "plt.xlabel('X-Test')\n",
        "plt.ylabel('Y-Test')\n"
      ],
      "execution_count": 9,
      "outputs": [
        {
          "output_type": "execute_result",
          "data": {
            "text/plain": [
              "Text(0, 0.5, 'Y-Test')"
            ]
          },
          "metadata": {},
          "execution_count": 9
        },
        {
          "output_type": "display_data",
          "data": {
            "image/png": "[encoded data removed]",
            "text/plain": [
              "<Figure size 432x288 with 1 Axes>"
            ]
          },
          "metadata": {
            "needs_background": "light"
          }
        }
      ]
    },
    {
      "cell_type": "markdown",
      "metadata": {
        "id": "AphbhB5FrMt6"
      },
      "source": [
        "## Final Test Set"
      ]
    },
    {
      "cell_type": "code",
      "metadata": {
        "colab": {
          "base_uri": "https://localhost:8080/",
          "height": 295
        },
        "id": "fyGri_3JrPhQ",
        "outputId": "3ab0200a-d90e-4c5e-d57a-2e15eefac1e4"
      },
      "source": [
        "test = pd.read_csv('/content/drive/MyDrive/datalinear/train.csv')\n",
        "test.plot.scatter('x', 'y', color='g')\n",
        "plt.plot(test['x'], regressor.predict(test.iloc[:,0:1].values), color='blue')\n",
        "plt.title('Linear Regression Ouput on Test Data Set')\n",
        "plt.xlabel('X-Values')\n",
        "plt.ylabel('Y-Values')\n",
        "plt.show()"
      ],
      "execution_count": 11,
      "outputs": [
        {
          "output_type": "display_data",
          "data": {
            "image/png": "[encoded data removed]",
            "text/plain": [
              "<Figure size 432x288 with 1 Axes>"
            ]
          },
          "metadata": {
            "needs_background": "light"
          }
        }
      ]
    }
  ]
}
